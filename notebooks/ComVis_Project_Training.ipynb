{
  "nbformat": 4,
  "nbformat_minor": 0,
  "metadata": {
    "colab": {
      "name": "ComVis_Project _Training.ipynb",
      "provenance": [],
      "collapsed_sections": []
    },
    "kernelspec": {
      "name": "python3",
      "display_name": "Python 3"
    },
    "language_info": {
      "name": "python"
    },
    "accelerator": "GPU"
  },
  "cells": [
    {
      "cell_type": "code",
      "metadata": {
        "id": "tIFykUQNWbFC"
      },
      "source": [
        "# Environment Setup for Training\n",
        "!git clone https://github.com/stevewongv/InstanceShadowDetection.git\n",
        "!pip install tensorboard cython jupyter scikit-image numpy opencv-python\n",
        "!pip install torch==1.3.0+cu100 torchvision==0.4.1+cu100 -f https://download.pytorch.org/whl/torch_stable.html\n",
        "!pip install 'git+https://github.com/cocodataset/cocoapi.git#subdirectory=PythonAPI'\n",
        "!git clone https://github.com/facebookresearch/fvcore.git\n",
        "!cd fvcore && git checkout c0ba80ac330ac08dd27ef1ce2e69c455d6f48e56\n",
        "!pip install -e fvcore\n",
        "!pip install --upgrade iopath==0.1.8\n",
        "!cd ./InstanceShadowDetection/ && python setup.py install \n",
        "!cd ./InstanceShadowDetection/PythonAPI/ && python setup.py install"
      ],
      "execution_count": null,
      "outputs": []
    },
    {
      "cell_type": "code",
      "metadata": {
        "colab": {
          "base_uri": "https://localhost:8080/"
        },
        "id": "LvGnPGrG4PlN",
        "outputId": "9b06d0ac-fe44-4e70-cebd-f26823beaa38"
      },
      "source": [
        "!git clone https://github.com/gledis69/ComVisProject"
      ],
      "execution_count": 2,
      "outputs": [
        {
          "output_type": "stream",
          "text": [
            "Cloning into 'ComVisProject'...\n",
            "remote: Enumerating objects: 115, done.\u001b[K\n",
            "remote: Counting objects: 100% (115/115), done.\u001b[K\n",
            "remote: Compressing objects: 100% (79/79), done.\u001b[K\n",
            "remote: Total 115 (delta 70), reused 80 (delta 35), pack-reused 0\u001b[K\n",
            "Receiving objects: 100% (115/115), 1.98 MiB | 23.32 MiB/s, done.\n",
            "Resolving deltas: 100% (70/70), done.\n"
          ],
          "name": "stdout"
        }
      ]
    },
    {
      "cell_type": "code",
      "metadata": {
        "colab": {
          "base_uri": "https://localhost:8080/"
        },
        "id": "FLM3RajSC_Rj",
        "outputId": "b2b7fade-2ecc-4ce6-c33f-d936bcefa58c"
      },
      "source": [
        "!cd ComVisProject && git pull origin"
      ],
      "execution_count": 4,
      "outputs": [
        {
          "output_type": "stream",
          "text": [
            "Updating e0120dd..d88953b\n",
            "Fast-forward\n",
            " LISA-colab-power-train.yml | 4 \u001b[32m++\u001b[m\u001b[31m--\u001b[m\n",
            " 1 file changed, 2 insertions(+), 2 deletions(-)\n"
          ],
          "name": "stdout"
        }
      ]
    },
    {
      "cell_type": "code",
      "metadata": {
        "colab": {
          "base_uri": "https://localhost:8080/"
        },
        "id": "0xU_oVjiyfAC",
        "outputId": "54e4dd01-484d-492c-9127-b04bfb52bc50"
      },
      "source": [
        "from google.colab import drive\n",
        "drive.mount('/content/drive')"
      ],
      "execution_count": 4,
      "outputs": [
        {
          "output_type": "stream",
          "text": [
            "Mounted at /content/drive\n"
          ],
          "name": "stdout"
        }
      ]
    },
    {
      "cell_type": "code",
      "metadata": {
        "id": "TKhW8n-bEc7g"
      },
      "source": [
        "PATH_TO_R101 = \"./drive/MyDrive/comvis project/R-101.pkl\"\n",
        "PATH_TO_CHECKPOINT = \"./drive/MyDrive/comvis project/last_checkpoint.pth\"\n",
        "PATH_TO_FINAL_MODEL = \"./InstanceShadowDetection/projects/LISA/output_light/model_final.pth\"\n",
        "PATH_TO_SOBA = \"./drive/MyDrive/comvis project/SOBA\""
      ],
      "execution_count": 3,
      "outputs": []
    },
    {
      "cell_type": "code",
      "metadata": {
        "id": "SAH_FlnTM9cQ"
      },
      "source": [
        "import shutil"
      ],
      "execution_count": 1,
      "outputs": []
    },
    {
      "cell_type": "code",
      "metadata": {
        "colab": {
          "base_uri": "https://localhost:8080/",
          "height": 35
        },
        "id": "I1DSdQDFG6fr",
        "outputId": "2a5ca7da-64e1-4768-b357-69cc5b3df2f5"
      },
      "source": [
        "# fvcore produces a faulty path\n",
        "# fvcore-file-io-fixed.py patches the issue, it is not ideal, but that seemed like the minimun\n",
        "# edit we had to do to train\n",
        "shutil.copyfile('./ComVisProject/fvcore-file-io-fixed.py', './fvcore/fvcore/common/file_io.py')"
      ],
      "execution_count": 2,
      "outputs": [
        {
          "output_type": "execute_result",
          "data": {
            "application/vnd.google.colaboratory.intrinsic+json": {
              "type": "string"
            },
            "text/plain": [
              "'./fvcore/fvcore/common/file_io.py'"
            ]
          },
          "metadata": {
            "tags": []
          },
          "execution_count": 2
        }
      ]
    },
    {
      "cell_type": "code",
      "metadata": {
        "colab": {
          "base_uri": "https://localhost:8080/"
        },
        "id": "5drKT2s8486c",
        "outputId": "834456d1-5f75-47a4-cb86-c4d209f7a6be"
      },
      "source": [
        "try:\n",
        "    #long operation\n",
        "    shutil.copytree(PATH_TO_SOBA, './SOBA')\n",
        "except:\n",
        "    print('File already there!')"
      ],
      "execution_count": 1,
      "outputs": [
        {
          "output_type": "stream",
          "text": [
            "File already there!\n"
          ],
          "name": "stdout"
        }
      ]
    },
    {
      "cell_type": "markdown",
      "metadata": {
        "id": "jQ793KgxMFs7"
      },
      "source": [
        "The training will fail with an error when it is completed. However, this is not a problem for as far as our task is concerned as the final weights of the model are written before the error is thrown."
      ]
    },
    {
      "cell_type": "code",
      "metadata": {
        "id": "AK8m8rKy4iFc"
      },
      "source": [
        "# colab capacity training, this will not yield as good results\n",
        "# eta 8h 45min\n",
        "# this is fundamentally limited as colab only provides limited GPU time\n",
        "!cd ./InstanceShadowDetection/projects/LISA/ && python train_net.py --num-gpus 1 --config-file /content/ComVisProject/LISA-colab-power-train.yml"
      ],
      "execution_count": null,
      "outputs": []
    },
    {
      "cell_type": "code",
      "metadata": {
        "id": "03A2hz8p50Ip"
      },
      "source": [
        "# actual full training as described in the paper\n",
        "!cd ./InstanceShadowDetection/projects/LISA/ && python train_net.py --num-gpus 2 --config-file /content/ComVisProject/LISA-full-power-train.yml"
      ],
      "execution_count": null,
      "outputs": []
    },
    {
      "cell_type": "code",
      "metadata": {
        "id": "X2KJQ5iQ57IM"
      },
      "source": [
        "# save checkpoint\n",
        "shutil.copyfile(PATH_TO_FINAL_MODEL, PATH_TO_CHECKPOINT)"
      ],
      "execution_count": null,
      "outputs": []
    }
  ]
}